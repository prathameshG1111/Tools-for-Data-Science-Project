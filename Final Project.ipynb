{
 "cells": [
  {
   "cell_type": "markdown",
   "id": "2ff39fd6",
   "metadata": {},
   "source": [
    "# Final Project of Tools for Data Science Course"
   ]
  },
  {
   "cell_type": "markdown",
   "id": "d5e87a2e",
   "metadata": {},
   "source": [
    "## This is my final project assignment in which i had to create a jupyter notebook and submit it to be graded by peers."
   ]
  },
  {
   "cell_type": "markdown",
   "id": "b54a2e70",
   "metadata": {},
   "source": [
    "### List of Data Science Languages\n",
    "1. Python\n",
    "2. R\n",
    "3. Julia\n",
    "4. SQL\n",
    "5. Java\n",
    "6. Scala\n",
    "7. MATLAB"
   ]
  },
  {
   "cell_type": "markdown",
   "id": "0371eac6",
   "metadata": {},
   "source": [
    "### List of Data Science Libraries\n",
    "1. NumPy\n",
    "2. pandas\n",
    "3. Matplotlib\n",
    "4. Seaborn\n",
    "5. SciPy\n",
    "6. scikit-learn\n",
    "7. TensorFlow\n",
    "8. Keras\n",
    "9. PyTorch\n",
    "10. Statsmodels"
   ]
  },
  {
   "cell_type": "markdown",
   "id": "9b66b2f1",
   "metadata": {},
   "source": [
    "### Table of Data Science Tools\n",
    "| Tool          | Description                                      |\n",
    "|---------------|--------------------------------------------------|\n",
    "| Jupyter       | Interactive computing environment                |\n",
    "| RStudio       | Integrated development environment for R         |\n",
    "| Apache Spark  | Unified analytics engine for big data processing |\n",
    "| TensorFlow    | Machine learning framework                       |\n",
    "| Tableau       | Data visualization tool                          |\n",
    "| Power BI      | Business analytics tool by Microsoft             |"
   ]
  },
  {
   "cell_type": "markdown",
   "id": "d2969db4",
   "metadata": {},
   "source": [
    "### Introducing Arithmetic Expression Examples\n",
    "Arithmetic expressions are combinations of numbers, operators, and sometimes parentheses that are used to perform calculations. Here are some examples of arithmetic expressions:\n",
    "- Addition: \\(3 + 2 = 5\\)\n",
    "- Subtraction: \\(7 - 4 = 3\\)\n",
    "- Multiplication: \\(6 \\times 3 = 18\\)\n",
    "- Division: \\(8 \\div 2 = 4\\)\n"
   ]
  },
  {
   "cell_type": "markdown",
   "id": "aa5d7588",
   "metadata": {},
   "source": [
    "### Multiply and Add Numbers\n",
    "\n",
    "```python\n",
    "# Code to multiply and add numbers\n",
    "a = 5\n",
    "b = 4\n",
    "multiply_result = a * b\n",
    "add_result = a + b\n",
    "multiply_result, add_result\n",
    "```"
   ]
  },
  {
   "cell_type": "markdown",
   "id": "547931cb",
   "metadata": {},
   "source": [
    "### Convert Minutes to Hours\n",
    "\n",
    "```python\n",
    "# Code to convert minutes to hours\n",
    "minutes = 150\n",
    "hours = minutes / 60\n",
    "hours\n",
    "```"
   ]
  },
  {
   "cell_type": "markdown",
   "id": "0ab8161d",
   "metadata": {},
   "source": [
    "### Objectives\n",
    "- Understand the key languages used in data science\n",
    "- Learn about essential libraries for data science tasks\n",
    "- Explore tools that facilitate data science projects\n",
    "- Practice writing and understanding arithmetic expressions\n",
    "- Perform basic arithmetic operations using Python\n",
    "- Convert time units in Python"
   ]
  },
  {
   "cell_type": "markdown",
   "id": "d5ccd3b9",
   "metadata": {},
   "source": [
    "### Author's Name\n",
    "Author: Prathamesh Govekar"
   ]
  },
  {
   "cell_type": "code",
   "execution_count": null,
   "id": "1d00168f",
   "metadata": {},
   "outputs": [],
   "source": []
  }
 ],
 "metadata": {
  "kernelspec": {
   "display_name": "Python 3 (ipykernel)",
   "language": "python",
   "name": "python3"
  },
  "language_info": {
   "codemirror_mode": {
    "name": "ipython",
    "version": 3
   },
   "file_extension": ".py",
   "mimetype": "text/x-python",
   "name": "python",
   "nbconvert_exporter": "python",
   "pygments_lexer": "ipython3",
   "version": "3.11.5"
  }
 },
 "nbformat": 4,
 "nbformat_minor": 5
}
